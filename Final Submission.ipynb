{
 "cells": [
  {
   "cell_type": "code",
   "execution_count": 30,
   "metadata": {},
   "outputs": [
    {
     "name": "stdout",
     "output_type": "stream",
     "text": [
      "Collecting pdfToAudioBookConverter\n",
      "  Downloading https://files.pythonhosted.org/packages/7f/ec/643342658820916396e20bf4ea2c4cd545d3e237cfb8b5a326267aad4968/pdfToAudioBookConverter-0.0.2-py3-none-any.whl\n",
      "Requirement already satisfied: gTTS>=2.1.1 in c:\\users\\dell\\anaconda3\\lib\\site-packages (from pdfToAudioBookConverter) (2.2.1)\n",
      "Requirement already satisfied: PyPDF2>=1.26.0 in c:\\users\\dell\\anaconda3\\lib\\site-packages (from pdfToAudioBookConverter) (1.26.0)\n",
      "Requirement already satisfied: requests in c:\\users\\dell\\anaconda3\\lib\\site-packages (from gTTS>=2.1.1->pdfToAudioBookConverter) (2.22.0)\n",
      "Requirement already satisfied: click in c:\\users\\dell\\anaconda3\\lib\\site-packages (from gTTS>=2.1.1->pdfToAudioBookConverter) (7.0)\n",
      "Requirement already satisfied: six in c:\\users\\dell\\anaconda3\\lib\\site-packages (from gTTS>=2.1.1->pdfToAudioBookConverter) (1.12.0)\n",
      "Requirement already satisfied: chardet<3.1.0,>=3.0.2 in c:\\users\\dell\\anaconda3\\lib\\site-packages (from requests->gTTS>=2.1.1->pdfToAudioBookConverter) (3.0.4)\n",
      "Requirement already satisfied: certifi>=2017.4.17 in c:\\users\\dell\\anaconda3\\lib\\site-packages (from requests->gTTS>=2.1.1->pdfToAudioBookConverter) (2019.6.16)\n",
      "Requirement already satisfied: idna<2.9,>=2.5 in c:\\users\\dell\\anaconda3\\lib\\site-packages (from requests->gTTS>=2.1.1->pdfToAudioBookConverter) (2.8)\n",
      "Requirement already satisfied: urllib3!=1.25.0,!=1.25.1,<1.26,>=1.21.1 in c:\\users\\dell\\anaconda3\\lib\\site-packages (from requests->gTTS>=2.1.1->pdfToAudioBookConverter) (1.24.2)\n",
      "Installing collected packages: pdfToAudioBookConverter\n",
      "Successfully installed pdfToAudioBookConverter-0.0.2\n"
     ]
    }
   ],
   "source": [
    "!pip install pdfToAudioBookConverter"
   ]
  },
  {
   "cell_type": "code",
   "execution_count": 31,
   "metadata": {},
   "outputs": [],
   "source": [
    "from pdftoAudiobook import * #This  will import pdftoAudiobook"
   ]
  },
  {
   "cell_type": "code",
   "execution_count": 35,
   "metadata": {},
   "outputs": [],
   "source": [
    "def BabluFile(BabluFile):     #Here we create function names bablufile which pass parameter of bablufile which contain the \n",
    "                                #the name of the pdf file it converts the pdf file to audio book and save as the name of\n",
    "                            #the pdf \n",
    "    pdftoAudiobook.pdf_to_audiobook(pdfFileName)\n",
    "    \n",
    "BabluFileSend = 'IEEE format.pdf'\n",
    "BabluFileSend(BabluFile)"
   ]
  },
  {
   "cell_type": "code",
   "execution_count": 1,
   "metadata": {},
   "outputs": [
    {
     "name": "stdout",
     "output_type": "stream",
     "text": [
      "Requirement already satisfied: emails in c:\\users\\dell\\anaconda3\\lib\\site-packages (0.6)\n",
      "Requirement already satisfied: cssutils in c:\\users\\dell\\anaconda3\\lib\\site-packages (from emails) (1.0.2)\n",
      "Requirement already satisfied: chardet in c:\\users\\dell\\anaconda3\\lib\\site-packages (from emails) (3.0.4)\n",
      "Requirement already satisfied: python-dateutil in c:\\users\\dell\\anaconda3\\lib\\site-packages (from emails) (2.8.0)\n",
      "Requirement already satisfied: requests in c:\\users\\dell\\anaconda3\\lib\\site-packages (from emails) (2.22.0)\n",
      "Requirement already satisfied: lxml in c:\\users\\dell\\anaconda3\\lib\\site-packages (from emails) (4.3.4)\n",
      "Requirement already satisfied: premailer in c:\\users\\dell\\anaconda3\\lib\\site-packages (from emails) (3.7.0)\n",
      "Requirement already satisfied: six>=1.5 in c:\\users\\dell\\anaconda3\\lib\\site-packages (from python-dateutil->emails) (1.12.0)\n",
      "Requirement already satisfied: urllib3!=1.25.0,!=1.25.1,<1.26,>=1.21.1 in c:\\users\\dell\\anaconda3\\lib\\site-packages (from requests->emails) (1.24.2)\n",
      "Requirement already satisfied: certifi>=2017.4.17 in c:\\users\\dell\\anaconda3\\lib\\site-packages (from requests->emails) (2019.6.16)\n",
      "Requirement already satisfied: idna<2.9,>=2.5 in c:\\users\\dell\\anaconda3\\lib\\site-packages (from requests->emails) (2.8)\n",
      "Requirement already satisfied: cachetools in c:\\users\\dell\\anaconda3\\lib\\site-packages (from premailer->emails) (4.2.0)\n",
      "Requirement already satisfied: cssselect in c:\\users\\dell\\anaconda3\\lib\\site-packages (from premailer->emails) (1.1.0)\n"
     ]
    }
   ],
   "source": [
    "!pip install emails  #here to install the email package to send the audiobook"
   ]
  },
  {
   "cell_type": "code",
   "execution_count": 2,
   "metadata": {},
   "outputs": [],
   "source": [
    "html = '''<p>Hello <strong>ABC,</strong></p>  \n",
    "<div style=\"margin-left: 40px;\"><span style=\"font-family: Courier New, courier;\">bahut importamt message hai padhlo.👍️</span></div>\n",
    "<div style=\"margin-left: 360px;\"><br></div>\n",
    "<p><br></p>\n",
    "<p><br></p>\n",
    "<p><br></p>\n",
    "<p style=\"margin-left: 400px;\"><span style=\"font-family: Courier New, courier;\">Regards From,</span></p>\n",
    "<p style=\"margin-left: 400px;\"><span style=\"font-family: Courier New, courier;\">🖕</span></p>'''"
   ]
  },
  {
   "cell_type": "code",
   "execution_count": 3,
   "metadata": {},
   "outputs": [],
   "source": [
    "import emails\n",
    "message = emails.html(html=html,\n",
    "                          subject=\"Important message hai\",\n",
    "                          mail_from=('Bahut jaruri', 'ICIOT-2020'))"
   ]
  },
  {
   "cell_type": "code",
   "execution_count": null,
   "metadata": {},
   "outputs": [],
   "source": [
    "r = message.send(to='Sample@gmail.com', \n",
    "                 smtp={'host': 'smtp.gmail.com', \n",
    "                       'timeout': 5,\n",
    "                        'port': 587,\n",
    "                          'user': 'Bablupandit@gmail.com',\n",
    "                          'password': 'BABLUbhaiyya',\n",
    "                              'tls':True})"
   ]
  }
 ],
 "metadata": {
  "kernelspec": {
   "display_name": "Python 3",
   "language": "python",
   "name": "python3"
  },
  "language_info": {
   "codemirror_mode": {
    "name": "ipython",
    "version": 3
   },
   "file_extension": ".py",
   "mimetype": "text/x-python",
   "name": "python",
   "nbconvert_exporter": "python",
   "pygments_lexer": "ipython3",
   "version": "3.7.3"
  }
 },
 "nbformat": 4,
 "nbformat_minor": 2
}
